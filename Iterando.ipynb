{
  "nbformat": 4,
  "nbformat_minor": 0,
  "metadata": {
    "colab": {
      "provenance": [],
      "authorship_tag": "ABX9TyNhalDgwOqmvvtqFP8RxjUZ",
      "include_colab_link": true
    },
    "kernelspec": {
      "name": "python3",
      "display_name": "Python 3"
    },
    "language_info": {
      "name": "python"
    }
  },
  "cells": [
    {
      "cell_type": "markdown",
      "metadata": {
        "id": "view-in-github",
        "colab_type": "text"
      },
      "source": [
        "<a href=\"https://colab.research.google.com/github/CarlosCordova2023/Iterando_M3_S5_Eva/blob/main/Iterando.ipynb\" target=\"_parent\"><img src=\"https://colab.research.google.com/assets/colab-badge.svg\" alt=\"Open In Colab\"/></a>"
      ]
    },
    {
      "cell_type": "code",
      "execution_count": 1,
      "metadata": {
        "colab": {
          "base_uri": "https://localhost:8080/"
        },
        "id": "CCfCpwy8SDil",
        "outputId": "e3c8167f-b3a7-4a16-ac7e-ea1aca998d04"
      },
      "outputs": [
        {
          "output_type": "stream",
          "name": "stdout",
          "text": [
            "Consonante: p, Posición: 0\n",
            "Consonante: r, Posición: 2\n",
            "Consonante: l, Posición: 4\n",
            "Consonante: l, Posición: 6\n",
            "Consonante: p, Posición: 8\n",
            "Consonante: p, Posición: 10\n",
            "Consonante: d, Posición: 12\n"
          ]
        }
      ],
      "source": [
        "\n",
        "palabra = \"paralelepípedo\"\n",
        "vocales = \"aeiouáéíóú\"\n",
        "\n",
        "# Lista para almacenar las consonantes y sus posiciones\n",
        "consonantes = []\n",
        "\n",
        "# Iteramos sobre la palabra y eliminamos las vocales\n",
        "for posicion, letra in enumerate(palabra):\n",
        "    if letra.lower() not in vocales:\n",
        "        consonantes.append((letra, posicion))\n",
        "\n",
        "\n",
        "for consonante, posicion in consonantes:\n",
        "    print(f\"Consonante: {consonante}, Posición: {posicion}\")\n"
      ]
    }
  ]
}